{
 "cells": [
  {
   "cell_type": "code",
   "execution_count": 12,
   "metadata": {},
   "outputs": [],
   "source": [
    "# Dependencies\n",
    "import numpy as np\n",
    "import tweepy\n",
    "import time\n",
    "import json\n"
   ]
  },
  {
   "cell_type": "code",
   "execution_count": 13,
   "metadata": {},
   "outputs": [],
   "source": [
    "# Twitter API Keys\n",
    "consumer_key = \"sz5wb5oRXgH9bnTIZFSgvhv3b\"\n",
    "consumer_secret = \"OrT3JaaW3JtzMeno4Q6X6bDYC5xyrAp2MERVHR6oxubdnpkVHv\"\n",
    "access_token= \"979169790735470592-YZh7iRKW87dk7Ce7IAYlzGITHNC66hI\"\n",
    "access_token_secret = \"jW0whjf3UGwf6BuOnOdmwLFB7BCrOJjI2WdI0srIoeRKg\" \n"
   ]
  },
  {
   "cell_type": "code",
   "execution_count": 14,
   "metadata": {},
   "outputs": [],
   "source": [
    "# Target Term\n",
    "target_term = \"@kindredseekers\""
   ]
  },
  {
   "cell_type": "code",
   "execution_count": 15,
   "metadata": {},
   "outputs": [
    {
     "name": "stdout",
     "output_type": "stream",
     "text": [
      "We're going live!\n"
     ]
    }
   ],
   "source": [
    "# Opening message\n",
    "print(\"We're going live!\")"
   ]
  },
  {
   "cell_type": "code",
   "execution_count": 25,
   "metadata": {},
   "outputs": [
    {
     "name": "stdout",
     "output_type": "stream",
     "text": [
      "981742608094408704\n",
      "TKCriminal\n",
      "981739327532122112\n",
      "bobbobe37676119\n",
      "981739263308939264\n",
      "LBBlank2\n"
     ]
    }
   ],
   "source": [
    "# Create Thank You Function\n",
    "def ThankYou():\n",
    "\n",
    "    # Twitter Credentials\n",
    "    auth = tweepy.OAuthHandler(consumer_key, consumer_secret)\n",
    "    auth.set_access_token(access_token, access_token_secret)\n",
    "    api = tweepy.API(auth, parser=tweepy.parsers.JSONParser())\n",
    "\n",
    "    # Search for all tweets\n",
    "    public_tweets = api.search(target_term, count=5, result_type=\"recent\")\n",
    "\n",
    "    # Loop through all tweets\n",
    "            # Get ID and Author of most recent tweet directed to me\n",
    "\n",
    "    for tweet in public_tweets[\"statuses\"]:\n",
    "        tweet_id = tweet[\"id\"]\n",
    "        tweet_author = tweet[\"user\"][\"screen_name\"]\n",
    "        tweet_text = tweet[\"text\"]\n",
    "        \n",
    "        print(tweet_id)\n",
    "        print(tweet_author)\n",
    "\n",
    "         #Use Try-Except to avoid the duplicate error\n",
    "        try: \n",
    "            api.update_status(tweet_author + \"Thank you! Come again\")\n",
    "        except Exception:\n",
    "            print(\"Don't repeat!\")\n",
    "            # Print success message\n",
    "ThankYou()\n",
    "\n",
    "            # Print message if duplicate\n",
    "\n",
    "       \n",
    "        \n",
    "\n",
    "       "
   ]
  },
  {
   "cell_type": "code",
   "execution_count": null,
   "metadata": {},
   "outputs": [],
   "source": []
  },
  {
   "cell_type": "code",
   "execution_count": null,
   "metadata": {},
   "outputs": [],
   "source": []
  }
 ],
 "metadata": {
  "kernelspec": {
   "display_name": "Python 3",
   "language": "python",
   "name": "python3"
  },
  "language_info": {
   "codemirror_mode": {
    "name": "ipython",
    "version": 3
   },
   "file_extension": ".py",
   "mimetype": "text/x-python",
   "name": "python",
   "nbconvert_exporter": "python",
   "pygments_lexer": "ipython3",
   "version": "3.6.4"
  },
  "nteract": {
   "version": "0.8.4"
  }
 },
 "nbformat": 4,
 "nbformat_minor": 2
}
